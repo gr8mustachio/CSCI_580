{
  "nbformat": 4,
  "nbformat_minor": 0,
  "metadata": {
    "colab": {
      "provenance": []
    },
    "kernelspec": {
      "name": "python3",
      "display_name": "Python 3"
    },
    "language_info": {
      "name": "python"
    }
  },
  "cells": [
    {
      "cell_type": "markdown",
      "source": [
        "Liam Smith\n",
        "\n",
        "CSCI 580 Artifical Intelligence\n",
        "\n",
        "Problem: write a python script to find the median in a given dataset with datatype list."
      ],
      "metadata": {
        "id": "57nQBcXK7kkt"
      }
    },
    {
      "cell_type": "code",
      "execution_count": 17,
      "metadata": {
        "colab": {
          "base_uri": "https://localhost:8080/"
        },
        "id": "eQbFU1iwz5tB",
        "outputId": "265814d1-06f8-46bf-847d-3016402d4726"
      },
      "outputs": [
        {
          "output_type": "stream",
          "name": "stdout",
          "text": [
            "[-99, -64, -55, -45, -23, -9, -3, 0, 2, 7, 8, 17, 20, 25, 34, 34, 43, 61, 89, 180, 203]\n",
            "Median: 8\n"
          ]
        }
      ],
      "source": [
        "my_list = [20, 89, 7, -23, 61, 34, 0, -9, -3, -64, 203, 2, 34, 25, 180, -99, -45, 8, 17, 43, -55]\n",
        "my_list2 = [1,2,3,]\n",
        "\n",
        "my_list.sort()\n",
        "# med = my_list[int((len(my_list)))/2]\n",
        "# print(med)\n",
        "size = len(my_list)\n",
        "print(my_list)\n",
        "if size % 2 == 0:\n",
        "  evenMed = int((len(my_list))/2)\n",
        "  evenMed2 = evenMed-1\n",
        "  print(f\"Middle Index: {evenMed}\")\n",
        "  evenMed = my_list[evenMed]\n",
        "  evenMed2 = my_list[evenMed2]\n",
        "  avg = (evenMed + evenMed2) / 2\n",
        "  print(f'Median: {avg}')\n",
        "else:\n",
        "  oddMed = int((len(my_list))/2)\n",
        "  oddMed = my_list[oddMed]\n",
        "  print(f'Median: {oddMed}')"
      ]
    }
  ]
}